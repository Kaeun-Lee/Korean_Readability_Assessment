{
 "cells": [
  {
   "cell_type": "markdown",
   "metadata": {},
   "source": [
    "### Konlpy Pos Tagging"
   ]
  },
  {
   "cell_type": "code",
   "execution_count": 1,
   "metadata": {},
   "outputs": [],
   "source": [
    "from konlpy.tag import Kkma, Okt\n",
    "\n",
    "f = open(\"test_text.txt\", 'r', encoding='UTF-8')\n",
    "data = f.read()\n",
    "\n",
    "# kkma\n",
    "def kkmapos(data):\n",
    "    kkma = Kkma()\n",
    "    pos = kkma.pos(data)\n",
    "    return pos\n",
    "\n",
    "# okt\n",
    "def oktpos(data):\n",
    "    okt = Okt()\n",
    "    pos = okt.pos(data)\n",
    "    return pos\n",
    "\n",
    "f.close()\n",
    "print(kkmapos(data))\n",
    "print(oktpos(data))"
   ]
  },
  {
   "cell_type": "code",
   "execution_count": 2,
   "metadata": {},
   "outputs": [],
   "source": [
    "# kkma options\n",
    "kkma = Kkma()\n",
    "# print(kkma.morphs(data))     # 형태소 추출\n",
    "print(kkma.nouns(data))      # 명사 추출\n",
    "print(kkma.pos(data))        # 품사 부착\n",
    "print(kkma.sentences(data))  # 문장 추출"
   ]
  },
  {
   "cell_type": "code",
   "execution_count": 3,
   "metadata": {},
   "outputs": [],
   "source": [
    "# okt options\n",
    "okt = Okt()\n",
    "# print(okt.morphs(data))     # 형태소 추출\n",
    "print(okt.nouns(data))      # 명사 추출\n",
    "print(okt.pos(data))        # 품사 부착"
   ]
  },
  {
   "cell_type": "markdown",
   "metadata": {},
   "source": [
    "### Mecab Pos Tagging"
   ]
  },
  {
   "cell_type": "code",
   "execution_count": 4,
   "metadata": {},
   "outputs": [],
   "source": [
    "from konlpy.tag import Mecab\n",
    "\n",
    "f = open(\"test_text.txt\", 'r', encoding='UTF-8')\n",
    "data = f.read()\n",
    "\n",
    "def mecabpos(data):\n",
    "    mecab = Mecab(dicpath=r\"C:\\mecab\\mecab-ko-dic\")\n",
    "    pos = mecab.pos(data)\n",
    "    return pos\n",
    "\n",
    "print(mecabpos(data))"
   ]
  }
 ],
 "metadata": {
  "interpreter": {
   "hash": "49de8edb4a174572adfce8885130fd6486c82b1df7252289157b68155bf6ea64"
  },
  "kernelspec": {
   "display_name": "Python 3.7.10 ('AI_exam')",
   "language": "python",
   "name": "python3"
  },
  "language_info": {
   "codemirror_mode": {
    "name": "ipython",
    "version": 3
   },
   "file_extension": ".py",
   "mimetype": "text/x-python",
   "name": "python",
   "nbconvert_exporter": "python",
   "pygments_lexer": "ipython3",
   "version": "3.7.10"
  },
  "orig_nbformat": 4
 },
 "nbformat": 4,
 "nbformat_minor": 2
}
